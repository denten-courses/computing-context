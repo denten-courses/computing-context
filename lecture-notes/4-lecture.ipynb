{
 "cells": [
  {
   "cell_type": "markdown",
   "metadata": {},
   "source": [
    "# Week 4: Style I\n",
    "\n",
    "## Screencasts\n",
    "\n",
    "https://drive.google.com/open?id=0B4OAOue0b3VMcjZpV1RfeEdsR0U\n",
    "\n",
    "## Readings\n",
    "\n",
    "- Python Foundation. [Style Guide for Python\n",
    "Code](https://www.python.org/dev/peps/pep-0008/) (PEP 8). pep-0008.txt @\n",
    "6126:4c7172052ed3.\n",
    "- Patel, Amit et. al. [Google Python Style\n",
    "Guide](https://google.github.io/styleguide/pyguide.html), Revision 2.5.9.\n",
    "- Mosteller, Frederick, and David L. Wallace. \"[Inference in an Authorship\n",
    "  Problem](https://www.stat.cmu.edu/Exams/mosteller.pdf).\" Journal of the\n",
    "American Statistical Association 58.302 (1963): 275–309.\n",
    "\n",
    "## Lecture Notes"
   ]
  },
  {
   "cell_type": "code",
   "execution_count": 2,
   "metadata": {
    "collapsed": true
   },
   "outputs": [],
   "source": [
    "from textblob import TextBlob\n",
    "\n",
    "text = '''\n",
    "The titular threat of The Blob has always struck me as the ultimate movie\n",
    "monster: an insatiably hungry, amoeba-like mass able to penetrate\n",
    "virtually any safeguard, capable of--as a doomed doctor chillingly\n",
    "describes it--\"assimilating flesh on contact.\n",
    "Snide comparisons to gelatin be damned, it's a concept with the most\n",
    "devastating of potential consequences, not unlike the grey goo scenario\n",
    "proposed by technological theorists fearful of\n",
    "artificial intelligence run rampant.\n",
    "'''"
   ]
  },
  {
   "cell_type": "code",
   "execution_count": 4,
   "metadata": {
    "collapsed": true
   },
   "outputs": [],
   "source": [
    "blob = TextBlob(text)"
   ]
  },
  {
   "cell_type": "code",
   "execution_count": 6,
   "metadata": {
    "collapsed": false
   },
   "outputs": [],
   "source": [
    "blob?"
   ]
  },
  {
   "cell_type": "code",
   "execution_count": null,
   "metadata": {
    "collapsed": true
   },
   "outputs": [],
   "source": [
    "# automated readability index (ARI) \n",
    "# (4.71 * characters/words) + (0.5 * words/sentences) - 21.43\n",
    "\n",
    "type(blob)"
   ]
  }
 ],
 "metadata": {
  "kernelspec": {
   "display_name": "Python 2",
   "language": "python",
   "name": "python2"
  },
  "language_info": {
   "name": "python",
   "version": "2.7.10"
  }
 },
 "nbformat": 4,
 "nbformat_minor": 0
}
