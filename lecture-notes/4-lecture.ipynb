{
 "cells": [
  {
   "cell_type": "markdown",
   "metadata": {},
   "source": [
    "# Week 4: Style\n",
    "\n",
    "## Screencasts\n",
    "\n",
    "https://drive.google.com/open?id=0B4OAOue0b3VMcjZpV1RfeEdsR0U\n",
    "\n",
    "## Readings\n",
    "\n",
    "- Python Foundation. [Style Guide for Python\n",
    "Code](https://www.python.org/dev/peps/pep-0008/) (PEP 8). pep-0008.txt @\n",
    "6126:4c7172052ed3.\n",
    "- Patel, Amit et. al. [Google Python Style\n",
    "Guide](https://google.github.io/styleguide/pyguide.html), Revision 2.5.9.\n",
    "- Mosteller, Frederick, and David L. Wallace. \"[Inference in an Authorship\n",
    "  Problem](https://www.stat.cmu.edu/Exams/mosteller.pdf).\" Journal of the\n",
    "American Statistical Association 58.302 (1963): 275–309.\n",
    "\n",
    "## Lecture Notes\n",
    "\n",
    "From [Wikipedia](https://en.wikipedia.org/wiki/Automated_readability_index):\n",
    "\n",
    "> automated readability index (ARI) is a readability test designed to gauge\n",
    "the understandability of a text. Like the Flesch–Kincaid grade level, Gunning fog\n",
    "index, SMOG index, Fry readability formula, and Coleman–Liau index, it\n",
    "produces an approximate representation of the US grade level needed to\n",
    "comprehend the text.\n",
    ">\n",
    "> The formula for calculating the automated readability index is given below:\n",
    ">\n",
    "> (4.71 * charachters/words) + (0.5 * words/sentences) - 21.43\n",
    ">\n",
    "> where characters is the number of letters and numbers, words is the number of\n",
    "spaces, and sentences is the number of sentences.\n",
    ">\n",
    "> As a rough guide, US grade level 1 corresponds to ages 6–8. Reading level\n",
    "grade 8 corresponds to the typical reading level of a 14-year-old US child.\n",
    "Grade 12, the highest US secondary-school grade before college, corresponds to\n",
    "the reading level of a 17-year-old. paragraph parser length of sentences and paragraphs.\n",
    "\n",
    "Can you see a problem with the above definition? Let's try to replicate the forumula! But first, meet [TextBlob](https://textblob.readthedocs.org/en/dev/). It will give us more powerful tools for reading and parsing, so that we do not have to reinvent the wheel. We wrote a simple word tokenizer in the previous lecture. But let's now use someone else's, more polished solution."
   ]
  },
  {
   "cell_type": "markdown",
   "metadata": {},
   "source": [
    "### Demistyfying other people's code\n",
    "\n",
    "First run:\n",
    "\n",
    "`$ pip install -U textblob`. \n",
    "\n",
    "How well do you understand `pip`? Explain what it does. Where does it install the libraries? Let's take a detour to find them.\n",
    "\n",
    "`$ pip list`\n",
    "\n",
    "`$ pip show textblob`\n",
    "\n",
    "navigate to the directory\n",
    "\n",
    "Open `tokenizers.py`. Follow the trail to `nltk`. `$ grep -r \"word_tokenize\"` \n",
    "\n",
    "Explore http://www.cis.upenn.edu/~treebank/tokenizer.sed and https://www.cis.upenn.edu/~treebank/\n"
   ]
  },
  {
   "cell_type": "code",
   "execution_count": 2,
   "metadata": {
    "collapsed": true
   },
   "outputs": [],
   "source": [
    "from textblob import TextBlob\n",
    "\n",
    "text = '''\n",
    "The titular threat of The Blob has always struck me as the ultimate movie\n",
    "monster: an insatiably hungry, amoeba-like mass able to penetrate\n",
    "virtually any safeguard, capable of--as a doomed doctor chillingly\n",
    "describes it--\"assimilating flesh on contact.\n",
    "Snide comparisons to gelatin be damned, it's a concept with the most\n",
    "devastating of potential consequences, not unlike the grey goo scenario\n",
    "proposed by technological theorists fearful of\n",
    "artificial intelligence run rampant.\n",
    "'''"
   ]
  },
  {
   "cell_type": "code",
   "execution_count": 4,
   "metadata": {
    "collapsed": true
   },
   "outputs": [],
   "source": [
    "blob = TextBlob(text)"
   ]
  },
  {
   "cell_type": "code",
   "execution_count": 6,
   "metadata": {
    "collapsed": false
   },
   "outputs": [],
   "source": [
    "blob?"
   ]
  },
  {
   "cell_type": "code",
   "execution_count": null,
   "metadata": {
    "collapsed": true
   },
   "outputs": [],
   "source": []
  }
 ],
 "metadata": {
  "kernelspec": {
   "display_name": "Python 2",
   "language": "python",
   "name": "python2"
  },
  "language_info": {
   "name": "python",
   "version": "2.7.10"
  }
 },
 "nbformat": 4,
 "nbformat_minor": 0
}
