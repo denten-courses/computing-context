{
 "cells": [
  {
   "cell_type": "markdown",
   "metadata": {},
   "source": [
    "# Week 6: Summary and Sentiment\n",
    "\n",
    "## Screencasts\n",
    "\n",
    "https://drive.google.com/drive/u/0/folders/0B4OAOue0b3VMSkZIOWJLbHFsQjg\n",
    "\n",
    "## Readings\n",
    "\n",
    "* Booth, Wayne C. [A Rhetoric of Irony](https://drive.google.com/file/d/0B4OAOue0b3VMSmNFR2wzRXJoUWM/view?usp=sharing). Chicago: University of Chicago Press, 1974. Pages 1-33.\n",
    "  \n",
    "* Carvalho, Paula, Luís Sarmento, Mário J. Silva, and Eugénio de Oliveira. “[Clues for Detecting Irony in User-Generated Contents: Oh...‼ It’s ‘So Easy’ ;-)](http://dl.acm.org/citation.cfm?id=1651471).” In Proceedings of the 1st International CIKM Workshop on Topic-Sentiment Analysis for Mass Opinion, 53–56. TSA ’09. New York, NY, USA: ACM, 2009.\n",
    "\n",
    "* Luhn, H. P. “[The Automatic Creation of Literature Abstracts](http://dl.acm.org.ezproxy.cul.columbia.edu/citation.cfm?id=1662360).” IBM J. Res. Dev. 2, no. 2 (April 1958): 159–65.\n",
    "\n",
    "\n",
    "\n",
    "## Home Experiment\n",
    "\n",
    "- [Sentiment Explore](https://github.com/denten-courses/computing-context/blob/master/experiments/6-experiment/sentiment.md)\n",
    "- [Final Project](https://github.com/denten-courses/computing-context/blob/master/experiments/6-experiment/final.md)\n",
    "\n",
    "\n",
    "\n",
    "## Lecture Notes:"
   ]
  },
  {
   "cell_type": "code",
   "execution_count": 5,
   "metadata": {
    "collapsed": false
   },
   "outputs": [
    {
     "data": {
      "text/plain": [
       "WordList(['A', 'cushion', 'has', 'that', 'cover', 'Supposing', 'you', 'do', 'not', 'like', 'to', 'change', 'supposing', 'it', 'is', 'very', 'clean', 'that', 'there', 'is', 'no', 'change', 'in', 'appearance', 'supposing', 'that', 'there', 'is', 'regularity', 'and', 'a', 'costume', 'is', 'that', 'any', 'the', 'worse', 'than', 'an', 'oyster', 'and', 'an', 'exchange', 'Come', 'to', 'season', 'that', 'is', 'there', 'any', 'extreme', 'use', 'in', 'feather', 'and', 'cotton', 'Is', 'there', 'not', 'much', 'more', 'joy', 'in', 'a', 'table', 'and', 'more', 'chairs', 'and', 'very', 'likely', 'roundness', 'and', 'a', 'place', 'to', 'put', 'them', 'A', 'circle', 'of', 'fine', 'card', 'board', 'and', 'a', 'chance', 'to', 'see', 'a', 'tassel'])"
      ]
     },
     "execution_count": 5,
     "metadata": {},
     "output_type": "execute_result"
    }
   ],
   "source": [
    "# review from last week words, tokens, types, stems, lemmas, ngrams\n",
    "from textblob import TextBlob, Word\n",
    "\n",
    "# From Tender Buttons by Gertrude Stein\n",
    "text = '''\n",
    "A cushion has that cover. Supposing you do not like to change, supposing it is very clean \n",
    "that there is no change in appearance, supposing that there is regularity and a costume is \n",
    "that any the worse than an oyster and an exchange. Come to season that is there any extreme \n",
    "use in feather and cotton. Is there not much more joy in a table and more chairs and very \n",
    "likely roundness and a place to put them. A circle of fine card board and a chance to see a tassel. \n",
    "'''\n",
    "\n",
    "blob = TextBlob(text)\n",
    "\n",
    "blob.words"
   ]
  },
  {
   "cell_type": "code",
   "execution_count": 6,
   "metadata": {
    "collapsed": false
   },
   "outputs": [
    {
     "data": {
      "text/plain": [
       "WordList(['A', 'cushion', 'has', 'that', 'cover', '.', 'Supposing', 'you', 'do', 'not', 'like', 'to', 'change', ',', 'supposing', 'it', 'is', 'very', 'clean', 'that', 'there', 'is', 'no', 'change', 'in', 'appearance', ',', 'supposing', 'that', 'there', 'is', 'regularity', 'and', 'a', 'costume', 'is', 'that', 'any', 'the', 'worse', 'than', 'an', 'oyster', 'and', 'an', 'exchange', '.', 'Come', 'to', 'season', 'that', 'is', 'there', 'any', 'extreme', 'use', 'in', 'feather', 'and', 'cotton', '.', 'Is', 'there', 'not', 'much', 'more', 'joy', 'in', 'a', 'table', 'and', 'more', 'chairs', 'and', 'very', 'likely', 'roundness', 'and', 'a', 'place', 'to', 'put', 'them', '.', 'A', 'circle', 'of', 'fine', 'card', 'board', 'and', 'a', 'chance', 'to', 'see', 'a', 'tassel', '.'])"
      ]
     },
     "execution_count": 6,
     "metadata": {},
     "output_type": "execute_result"
    }
   ],
   "source": [
    "blob.tokens"
   ]
  },
  {
   "cell_type": "code",
   "execution_count": 24,
   "metadata": {
    "collapsed": false
   },
   "outputs": [
    {
     "data": {
      "text/plain": [
       "[('and', 7),\n",
       " ('is', 5),\n",
       " ('.', 5),\n",
       " ('that', 5),\n",
       " ('a', 5),\n",
       " ('there', 4),\n",
       " ('to', 4),\n",
       " ('in', 3),\n",
       " ('an', 2),\n",
       " ('any', 2),\n",
       " (',', 2),\n",
       " ('more', 2),\n",
       " ('A', 2),\n",
       " ('very', 2),\n",
       " ('supposing', 2),\n",
       " ('not', 2),\n",
       " ('change', 2),\n",
       " ('joy', 1),\n",
       " ('appearance', 1),\n",
       " ('it', 1),\n",
       " ('put', 1),\n",
       " ('regularity', 1),\n",
       " ('costume', 1),\n",
       " ('table', 1),\n",
       " ('fine', 1),\n",
       " ('exchange', 1),\n",
       " ('cotton', 1),\n",
       " ('use', 1),\n",
       " ('no', 1),\n",
       " ('much', 1),\n",
       " ('feather', 1),\n",
       " ('oyster', 1),\n",
       " ('Supposing', 1),\n",
       " ('you', 1),\n",
       " ('has', 1),\n",
       " ('Come', 1),\n",
       " ('do', 1),\n",
       " ('them', 1),\n",
       " ('worse', 1),\n",
       " ('see', 1),\n",
       " ('season', 1),\n",
       " ('chance', 1),\n",
       " ('cushion', 1),\n",
       " ('card', 1),\n",
       " ('than', 1),\n",
       " ('extreme', 1),\n",
       " ('tassel', 1),\n",
       " ('like', 1),\n",
       " ('chairs', 1),\n",
       " ('of', 1)]"
      ]
     },
     "execution_count": 24,
     "metadata": {},
     "output_type": "execute_result"
    }
   ],
   "source": [
    "# types\n",
    "from collections import Counter\n",
    "\n",
    "types = Counter(tokens)\n",
    "\n",
    "types.most_common(50)"
   ]
  },
  {
   "cell_type": "code",
   "execution_count": 38,
   "metadata": {
    "collapsed": false
   },
   "outputs": [
    {
     "data": {
      "text/plain": [
       "u'A cushion ha that cover . Suppos you do not like to chang , suppos it is veri clean that there is no chang in appear , suppos that there is regular and a costum is that ani the wors than an oyster and an exchang . Come to season that is there ani extrem use in feather and cotton . Is there not much more joy in a tabl and more chair and veri like round and a place to put them . A circl of fine card board and a chanc to see a tassel .'"
      ]
     },
     "execution_count": 38,
     "metadata": {},
     "output_type": "execute_result"
    }
   ],
   "source": [
    "import nltk\n",
    "\n",
    "stemmer = nltk.PorterStemmer()\n",
    "\n",
    "stems = []\n",
    "for token in blob.tokens:\n",
    "    stems.append(stemmer.stem(token))\n",
    "\n",
    "# why is the join method like this?\n",
    "' '.join(stems)\n",
    "    "
   ]
  },
  {
   "cell_type": "code",
   "execution_count": 39,
   "metadata": {
    "collapsed": false
   },
   "outputs": [
    {
     "data": {
      "text/plain": [
       "u'A cushion have that cover Supposing you do not like to change suppose it be very clean that there be no change in appearance suppose that there be regularity and a costume be that any the bad than an oyster and an exchange Come to season that be there any extreme use in feather and cotton Is there not much more joy in a table and more chair and very likely roundness and a place to put them A circle of fine card board and a chance to see a tassel'"
      ]
     },
     "execution_count": 39,
     "metadata": {},
     "output_type": "execute_result"
    }
   ],
   "source": [
    "from nltk.corpus import wordnet\n",
    "\n",
    "# default to noun in all others\n",
    "def get_wordnet_pos(treebank_tag):\n",
    "    if treebank_tag.startswith('J'):\n",
    "        return wordnet.ADJ\n",
    "    elif treebank_tag.startswith('V'):\n",
    "        return wordnet.VERB\n",
    "    elif treebank_tag.startswith('N'):\n",
    "        return wordnet.NOUN\n",
    "    elif treebank_tag.startswith('R'):\n",
    "        return wordnet.ADV\n",
    "    else:\n",
    "        return wordnet.NOUN\n",
    "\n",
    "# lemmas\n",
    "lemmas = []\n",
    "for list_item in blob.tags:\n",
    "    word = list_item[0]\n",
    "    tpos = list_item[1]\n",
    "    wpos = get_wordnet_pos(tpos)\n",
    "    \n",
    "    lemmas.append(word.lemmatize(wpos))\n",
    "    \n",
    "' '.join(lemmas)"
   ]
  },
  {
   "cell_type": "code",
   "execution_count": null,
   "metadata": {
    "collapsed": true
   },
   "outputs": [],
   "source": [
    "# compare the results from each output"
   ]
  },
  {
   "cell_type": "markdown",
   "metadata": {},
   "source": [
    "## Sentiment\n",
    "\n",
    "> The sentiment property returns a namedtuple of the form Sentiment(polarity, subjectivity). The polarity score is a float within the range [-1.0, 1.0]. The subjectivity is a float within the range [0.0, 1.0] where 0.0 is very objective and 1.0 is very subjective."
   ]
  },
  {
   "cell_type": "code",
   "execution_count": 60,
   "metadata": {
    "collapsed": false
   },
   "outputs": [],
   "source": [
    "sentiment1 = \"This was an really amazing class. I loved it a lot. My classmates are super great!\"\n",
    "sentiment2 = \"this was an average class. I thought it was interesting at times. I am neutral about it.\"\n",
    "sentiment3 = \"This was one of the worst courses ever. Do not recommend, even to my enemies. Incredibly terrible.\"\n",
    "\n",
    "blob1 = TextBlob(sentiment1)\n",
    "blob2 = TextBlob(sentiment2)\n",
    "blob3 = TextBlob(sentiment3)"
   ]
  },
  {
   "cell_type": "code",
   "execution_count": 61,
   "metadata": {
    "collapsed": false
   },
   "outputs": [
    {
     "data": {
      "text/plain": [
       "Sentiment(polarity=0.6583333333333333, subjectivity=0.7791666666666667)"
      ]
     },
     "execution_count": 61,
     "metadata": {},
     "output_type": "execute_result"
    }
   ],
   "source": [
    "blob1.sentiment"
   ]
  },
  {
   "cell_type": "code",
   "execution_count": 62,
   "metadata": {
    "collapsed": false
   },
   "outputs": [
    {
     "data": {
      "text/plain": [
       "Sentiment(polarity=0.175, subjectivity=0.44999999999999996)"
      ]
     },
     "execution_count": 62,
     "metadata": {},
     "output_type": "execute_result"
    }
   ],
   "source": [
    "blob2.sentiment"
   ]
  },
  {
   "cell_type": "code",
   "execution_count": 63,
   "metadata": {
    "collapsed": false
   },
   "outputs": [
    {
     "data": {
      "text/plain": [
       "Sentiment(polarity=-1.0, subjectivity=1.0)"
      ]
     },
     "execution_count": 63,
     "metadata": {},
     "output_type": "execute_result"
    }
   ],
   "source": [
    "blob3.sentiment"
   ]
  },
  {
   "cell_type": "markdown",
   "metadata": {},
   "source": [
    "# Simple Summary"
   ]
  },
  {
   "cell_type": "code",
   "execution_count": 15,
   "metadata": {
    "collapsed": false
   },
   "outputs": [
    {
     "name": "stdout",
     "output_type": "stream",
     "text": [
      "This text is about:\n",
      "circles\n",
      "uses\n",
      "joys\n",
      "cushions\n",
      "appearances\n"
     ]
    }
   ],
   "source": [
    "# ported from Allison Parish's excellent\n",
    "# http://rwet.decontextualize.com/book/textblob/\n",
    "\n",
    "# let's make a simple text summary\n",
    "from textblob import TextBlob, Word\n",
    "import random\n",
    "\n",
    "# From Tender Buttons by Gertrude Stein\n",
    "text = '''\n",
    "A cushion has that cover. Supposing you do not like to change, supposing it is very clean \n",
    "that there is no change in appearance, supposing that there is regularity and a costume is \n",
    "that any the worse than an oyster and an exchange. Come to season that is there any extreme \n",
    "use in feather and cotton. Is there not much more joy in a table and more chairs and very \n",
    "likely roundness and a place to put them. A circle of fine card board and a chance to see a tassel. \n",
    "'''\n",
    "\n",
    "blob = TextBlob(text)\n",
    "\n",
    "nouns = list()\n",
    "for word, tag in blob.tags:\n",
    "    if tag == 'NN':\n",
    "        nouns.append(word.lemmatize())\n",
    "\n",
    "print \"This text is about:\"\n",
    "for item in random.sample(nouns, 5):\n",
    "    word = Word(item)\n",
    "    print word.pluralize()"
   ]
  }
 ],
 "metadata": {
  "kernelspec": {
   "display_name": "Python 2",
   "language": "python",
   "name": "python2"
  },
  "language_info": {
   "name": "python",
   "version": "2.7.10"
  }
 },
 "nbformat": 4,
 "nbformat_minor": 0
}
