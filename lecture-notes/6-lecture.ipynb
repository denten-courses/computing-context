{
 "cells": [
  {
   "cell_type": "markdown",
   "metadata": {},
   "source": [
    "# Week 6: Summary and Sentiment\n",
    "\n",
    "## Screencasts\n",
    "\n",
    "https://drive.google.com/drive/u/0/folders/0B4OAOue0b3VMSkZIOWJLbHFsQjg\n",
    "\n",
    "## Readings\n",
    "\n",
    "* Booth, Wayne C. [A Rhetoric of Irony](https://drive.google.com/file/d/0B4OAOue0b3VMSmNFR2wzRXJoUWM/view?usp=sharing). Chicago: University of Chicago Press, 1974. Pages 1-33.\n",
    "  \n",
    "* Carvalho, Paula, Luís Sarmento, Mário J. Silva, and Eugénio de Oliveira. “[Clues for Detecting Irony in User-Generated Contents: Oh...‼ It’s ‘So Easy’ ;-)](http://dl.acm.org/citation.cfm?id=1651471).” In Proceedings of the 1st International CIKM Workshop on Topic-Sentiment Analysis for Mass Opinion, 53–56. TSA ’09. New York, NY, USA: ACM, 2009.\n",
    "\n",
    "* Luhn, H. P. “[The Automatic Creation of Literature Abstracts](http://dl.acm.org.ezproxy.cul.columbia.edu/citation.cfm?id=1662360).” IBM J. Res. Dev. 2, no. 2 (April 1958): 159–65.\n",
    "\n",
    "\n",
    "\n",
    "## Home Experiment\n",
    "\n",
    "- [Sentiment Explore](https://github.com/denten-courses/computing-context/blob/master/experiments/6-experiment/sentiment.md)\n",
    "- [Final Project](https://github.com/denten-courses/computing-context/blob/master/experiments/6-experiment/final.md)\n",
    "\n",
    "\n",
    "\n",
    "## Lecture Notes:"
   ]
  },
  {
   "cell_type": "code",
   "execution_count": 2,
   "metadata": {
    "collapsed": false
   },
   "outputs": [
    {
     "data": {
      "text/plain": [
       "WordList(['A', 'cushion', 'has', 'that', 'cover', 'Supposing', 'you', 'do', 'not', 'like', 'to', 'change', 'supposing', 'it', 'is', 'very', 'clean', 'that', 'there', 'is', 'no', 'change', 'in', 'appearance', 'supposing', 'that', 'there', 'is', 'regularity', 'and', 'a', 'costume', 'is', 'that', 'any', 'the', 'worse', 'than', 'an', 'oyster', 'and', 'an', 'exchange', 'Come', 'to', 'season', 'that', 'is', 'there', 'any', 'extreme', 'use', 'in', 'feather', 'and', 'cotton', 'Is', 'there', 'not', 'much', 'more', 'joy', 'in', 'a', 'table', 'and', 'more', 'chairs', 'and', 'very', 'likely', 'roundness', 'and', 'a', 'place', 'to', 'put', 'them', 'A', 'circle', 'of', 'fine', 'card', 'board', 'and', 'a', 'chance', 'to', 'see', 'a', 'tassel'])"
      ]
     },
     "execution_count": 2,
     "metadata": {},
     "output_type": "execute_result"
    }
   ],
   "source": [
    "# review from last week words, tokens, types, stems, lemmas, ngrams\n",
    "from textblob import TextBlob, Word\n",
    "\n",
    "# From Tender Buttons by Gertrude Stein\n",
    "text = '''\n",
    "A cushion has that cover. Supposing you do not like to change, supposing it is very clean \n",
    "that there is no change in appearance, supposing that there is regularity and a costume is \n",
    "that any the worse than an oyster and an exchange. Come to season that is there any extreme \n",
    "use in feather and cotton. Is there not much more joy in a table and more chairs and very \n",
    "likely roundness and a place to put them. A circle of fine card board and a chance to see a tassel. \n",
    "'''\n",
    "\n",
    "blob = TextBlob(text)\n",
    "\n",
    "blob.words"
   ]
  },
  {
   "cell_type": "code",
   "execution_count": 3,
   "metadata": {
    "collapsed": false
   },
   "outputs": [
    {
     "data": {
      "text/plain": [
       "WordList(['A', 'cushion', 'has', 'that', 'cover', '.', 'Supposing', 'you', 'do', 'not', 'like', 'to', 'change', ',', 'supposing', 'it', 'is', 'very', 'clean', 'that', 'there', 'is', 'no', 'change', 'in', 'appearance', ',', 'supposing', 'that', 'there', 'is', 'regularity', 'and', 'a', 'costume', 'is', 'that', 'any', 'the', 'worse', 'than', 'an', 'oyster', 'and', 'an', 'exchange', '.', 'Come', 'to', 'season', 'that', 'is', 'there', 'any', 'extreme', 'use', 'in', 'feather', 'and', 'cotton', '.', 'Is', 'there', 'not', 'much', 'more', 'joy', 'in', 'a', 'table', 'and', 'more', 'chairs', 'and', 'very', 'likely', 'roundness', 'and', 'a', 'place', 'to', 'put', 'them', '.', 'A', 'circle', 'of', 'fine', 'card', 'board', 'and', 'a', 'chance', 'to', 'see', 'a', 'tassel', '.'])"
      ]
     },
     "execution_count": 3,
     "metadata": {},
     "output_type": "execute_result"
    }
   ],
   "source": [
    "blob.tokens"
   ]
  },
  {
   "cell_type": "code",
   "execution_count": 4,
   "metadata": {
    "collapsed": false
   },
   "outputs": [
    {
     "ename": "NameError",
     "evalue": "name 'tokens' is not defined",
     "output_type": "error",
     "traceback": [
      "\u001b[0;31m---------------------------------------------------------------------------\u001b[0m\n\u001b[0;31mNameError\u001b[0m                                 Traceback (most recent call last)",
      "\u001b[0;32m<ipython-input-4-36807bc849d8>\u001b[0m in \u001b[0;36m<module>\u001b[0;34m()\u001b[0m\n\u001b[1;32m      2\u001b[0m \u001b[0;32mfrom\u001b[0m \u001b[0mcollections\u001b[0m \u001b[0;32mimport\u001b[0m \u001b[0mCounter\u001b[0m\u001b[0;34m\u001b[0m\u001b[0m\n\u001b[1;32m      3\u001b[0m \u001b[0;34m\u001b[0m\u001b[0m\n\u001b[0;32m----> 4\u001b[0;31m \u001b[0mtypes\u001b[0m \u001b[0;34m=\u001b[0m \u001b[0mCounter\u001b[0m\u001b[0;34m(\u001b[0m\u001b[0mtokens\u001b[0m\u001b[0;34m)\u001b[0m\u001b[0;34m\u001b[0m\u001b[0m\n\u001b[0m\u001b[1;32m      5\u001b[0m \u001b[0;34m\u001b[0m\u001b[0m\n\u001b[1;32m      6\u001b[0m \u001b[0mtypes\u001b[0m\u001b[0;34m.\u001b[0m\u001b[0mmost_common\u001b[0m\u001b[0;34m(\u001b[0m\u001b[0;36m50\u001b[0m\u001b[0;34m)\u001b[0m\u001b[0;34m\u001b[0m\u001b[0m\n",
      "\u001b[0;31mNameError\u001b[0m: name 'tokens' is not defined"
     ]
    }
   ],
   "source": [
    "# types\n",
    "from collections import Counter\n",
    "\n",
    "types = Counter(tokens)\n",
    "\n",
    "types.most_common(50)"
   ]
  },
  {
   "cell_type": "code",
   "execution_count": 5,
   "metadata": {
    "collapsed": false
   },
   "outputs": [
    {
     "data": {
      "text/plain": [
       "u'A cushion ha that cover . Suppos you do not like to chang , suppos it is veri clean that there is no chang in appear , suppos that there is regular and a costum is that ani the wors than an oyster and an exchang . Come to season that is there ani extrem use in feather and cotton . Is there not much more joy in a tabl and more chair and veri like round and a place to put them . A circl of fine card board and a chanc to see a tassel .'"
      ]
     },
     "execution_count": 5,
     "metadata": {},
     "output_type": "execute_result"
    }
   ],
   "source": [
    "import nltk\n",
    "\n",
    "stemmer = nltk.PorterStemmer()\n",
    "\n",
    "stems = []\n",
    "for token in blob.tokens:\n",
    "    stems.append(stemmer.stem(token))\n",
    "\n",
    "# why is the join method like this?\n",
    "' '.join(stems)\n",
    "    "
   ]
  },
  {
   "cell_type": "code",
   "execution_count": 6,
   "metadata": {
    "collapsed": false
   },
   "outputs": [
    {
     "data": {
      "text/plain": [
       "u'A cushion have that cover Supposing you do not like to change suppose it be very clean that there be no change in appearance suppose that there be regularity and a costume be that any the bad than an oyster and an exchange Come to season that be there any extreme use in feather and cotton Is there not much more joy in a table and more chair and very likely roundness and a place to put them A circle of fine card board and a chance to see a tassel'"
      ]
     },
     "execution_count": 6,
     "metadata": {},
     "output_type": "execute_result"
    }
   ],
   "source": [
    "from nltk.corpus import wordnet\n",
    "\n",
    "# default to noun in all others\n",
    "def get_wordnet_pos(treebank_tag):\n",
    "    if treebank_tag.startswith('J'):\n",
    "        return wordnet.ADJ\n",
    "    elif treebank_tag.startswith('V'):\n",
    "        return wordnet.VERB\n",
    "    elif treebank_tag.startswith('N'):\n",
    "        return wordnet.NOUN\n",
    "    elif treebank_tag.startswith('R'):\n",
    "        return wordnet.ADV\n",
    "    else:\n",
    "        return wordnet.NOUN\n",
    "\n",
    "# lemmas\n",
    "lemmas = []\n",
    "for list_item in blob.tags:\n",
    "    word = list_item[0]\n",
    "    tpos = list_item[1]\n",
    "    wpos = get_wordnet_pos(tpos)\n",
    "    \n",
    "    lemmas.append(word.lemmatize(wpos))\n",
    "    \n",
    "' '.join(lemmas)"
   ]
  },
  {
   "cell_type": "code",
   "execution_count": 8,
   "metadata": {
    "collapsed": false
   },
   "outputs": [
    {
     "data": {
      "text/plain": [
       "[WordList(['A', 'cushion', 'has']),\n",
       " WordList(['cushion', 'has', 'that']),\n",
       " WordList(['has', 'that', 'cover']),\n",
       " WordList(['that', 'cover', 'Supposing']),\n",
       " WordList(['cover', 'Supposing', 'you']),\n",
       " WordList(['Supposing', 'you', 'do']),\n",
       " WordList(['you', 'do', 'not']),\n",
       " WordList(['do', 'not', 'like']),\n",
       " WordList(['not', 'like', 'to']),\n",
       " WordList(['like', 'to', 'change']),\n",
       " WordList(['to', 'change', 'supposing']),\n",
       " WordList(['change', 'supposing', 'it']),\n",
       " WordList(['supposing', 'it', 'is']),\n",
       " WordList(['it', 'is', 'very']),\n",
       " WordList(['is', 'very', 'clean']),\n",
       " WordList(['very', 'clean', 'that']),\n",
       " WordList(['clean', 'that', 'there']),\n",
       " WordList(['that', 'there', 'is']),\n",
       " WordList(['there', 'is', 'no']),\n",
       " WordList(['is', 'no', 'change']),\n",
       " WordList(['no', 'change', 'in']),\n",
       " WordList(['change', 'in', 'appearance']),\n",
       " WordList(['in', 'appearance', 'supposing']),\n",
       " WordList(['appearance', 'supposing', 'that']),\n",
       " WordList(['supposing', 'that', 'there']),\n",
       " WordList(['that', 'there', 'is']),\n",
       " WordList(['there', 'is', 'regularity']),\n",
       " WordList(['is', 'regularity', 'and']),\n",
       " WordList(['regularity', 'and', 'a']),\n",
       " WordList(['and', 'a', 'costume']),\n",
       " WordList(['a', 'costume', 'is']),\n",
       " WordList(['costume', 'is', 'that']),\n",
       " WordList(['is', 'that', 'any']),\n",
       " WordList(['that', 'any', 'the']),\n",
       " WordList(['any', 'the', 'worse']),\n",
       " WordList(['the', 'worse', 'than']),\n",
       " WordList(['worse', 'than', 'an']),\n",
       " WordList(['than', 'an', 'oyster']),\n",
       " WordList(['an', 'oyster', 'and']),\n",
       " WordList(['oyster', 'and', 'an']),\n",
       " WordList(['and', 'an', 'exchange']),\n",
       " WordList(['an', 'exchange', 'Come']),\n",
       " WordList(['exchange', 'Come', 'to']),\n",
       " WordList(['Come', 'to', 'season']),\n",
       " WordList(['to', 'season', 'that']),\n",
       " WordList(['season', 'that', 'is']),\n",
       " WordList(['that', 'is', 'there']),\n",
       " WordList(['is', 'there', 'any']),\n",
       " WordList(['there', 'any', 'extreme']),\n",
       " WordList(['any', 'extreme', 'use']),\n",
       " WordList(['extreme', 'use', 'in']),\n",
       " WordList(['use', 'in', 'feather']),\n",
       " WordList(['in', 'feather', 'and']),\n",
       " WordList(['feather', 'and', 'cotton']),\n",
       " WordList(['and', 'cotton', 'Is']),\n",
       " WordList(['cotton', 'Is', 'there']),\n",
       " WordList(['Is', 'there', 'not']),\n",
       " WordList(['there', 'not', 'much']),\n",
       " WordList(['not', 'much', 'more']),\n",
       " WordList(['much', 'more', 'joy']),\n",
       " WordList(['more', 'joy', 'in']),\n",
       " WordList(['joy', 'in', 'a']),\n",
       " WordList(['in', 'a', 'table']),\n",
       " WordList(['a', 'table', 'and']),\n",
       " WordList(['table', 'and', 'more']),\n",
       " WordList(['and', 'more', 'chairs']),\n",
       " WordList(['more', 'chairs', 'and']),\n",
       " WordList(['chairs', 'and', 'very']),\n",
       " WordList(['and', 'very', 'likely']),\n",
       " WordList(['very', 'likely', 'roundness']),\n",
       " WordList(['likely', 'roundness', 'and']),\n",
       " WordList(['roundness', 'and', 'a']),\n",
       " WordList(['and', 'a', 'place']),\n",
       " WordList(['a', 'place', 'to']),\n",
       " WordList(['place', 'to', 'put']),\n",
       " WordList(['to', 'put', 'them']),\n",
       " WordList(['put', 'them', 'A']),\n",
       " WordList(['them', 'A', 'circle']),\n",
       " WordList(['A', 'circle', 'of']),\n",
       " WordList(['circle', 'of', 'fine']),\n",
       " WordList(['of', 'fine', 'card']),\n",
       " WordList(['fine', 'card', 'board']),\n",
       " WordList(['card', 'board', 'and']),\n",
       " WordList(['board', 'and', 'a']),\n",
       " WordList(['and', 'a', 'chance']),\n",
       " WordList(['a', 'chance', 'to']),\n",
       " WordList(['chance', 'to', 'see']),\n",
       " WordList(['to', 'see', 'a']),\n",
       " WordList(['see', 'a', 'tassel'])]"
      ]
     },
     "execution_count": 8,
     "metadata": {},
     "output_type": "execute_result"
    }
   ],
   "source": [
    "blob.ngrams(3)"
   ]
  },
  {
   "cell_type": "code",
   "execution_count": null,
   "metadata": {
    "collapsed": true
   },
   "outputs": [],
   "source": [
    "# compare the results from each output"
   ]
  },
  {
   "cell_type": "markdown",
   "metadata": {},
   "source": [
    "## Sentiment\n",
    "\n",
    "> The sentiment property returns a namedtuple of the form Sentiment(polarity, subjectivity). The polarity score is a float within the range [-1.0, 1.0]. The subjectivity is a float within the range [0.0, 1.0] where 0.0 is very objective and 1.0 is very subjective."
   ]
  },
  {
   "cell_type": "code",
   "execution_count": 60,
   "metadata": {
    "collapsed": false
   },
   "outputs": [],
   "source": [
    "sentiment1 = \"This was an really amazing class. I loved it a lot. My classmates are super great!\"\n",
    "sentiment2 = \"this was an average class. I thought it was interesting at times. I am neutral about it.\"\n",
    "sentiment3 = \"This was one of the worst courses ever. Do not recommend, even to my enemies. Incredibly terrible.\"\n",
    "\n",
    "blob1 = TextBlob(sentiment1)\n",
    "blob2 = TextBlob(sentiment2)\n",
    "blob3 = TextBlob(sentiment3)"
   ]
  },
  {
   "cell_type": "code",
   "execution_count": 61,
   "metadata": {
    "collapsed": false
   },
   "outputs": [
    {
     "data": {
      "text/plain": [
       "Sentiment(polarity=0.6583333333333333, subjectivity=0.7791666666666667)"
      ]
     },
     "execution_count": 61,
     "metadata": {},
     "output_type": "execute_result"
    }
   ],
   "source": [
    "blob1.sentiment"
   ]
  },
  {
   "cell_type": "code",
   "execution_count": 62,
   "metadata": {
    "collapsed": false
   },
   "outputs": [
    {
     "data": {
      "text/plain": [
       "Sentiment(polarity=0.175, subjectivity=0.44999999999999996)"
      ]
     },
     "execution_count": 62,
     "metadata": {},
     "output_type": "execute_result"
    }
   ],
   "source": [
    "blob2.sentiment"
   ]
  },
  {
   "cell_type": "code",
   "execution_count": 63,
   "metadata": {
    "collapsed": false
   },
   "outputs": [
    {
     "data": {
      "text/plain": [
       "Sentiment(polarity=-1.0, subjectivity=1.0)"
      ]
     },
     "execution_count": 63,
     "metadata": {},
     "output_type": "execute_result"
    }
   ],
   "source": [
    "blob3.sentiment"
   ]
  },
  {
   "cell_type": "markdown",
   "metadata": {},
   "source": [
    "# Simple Summary"
   ]
  },
  {
   "cell_type": "code",
   "execution_count": 15,
   "metadata": {
    "collapsed": false
   },
   "outputs": [
    {
     "name": "stdout",
     "output_type": "stream",
     "text": [
      "This text is about:\n",
      "circles\n",
      "uses\n",
      "joys\n",
      "cushions\n",
      "appearances\n"
     ]
    }
   ],
   "source": [
    "# ported from Allison Parish's excellent\n",
    "# http://rwet.decontextualize.com/book/textblob/\n",
    "\n",
    "# let's make a simple text summary\n",
    "from textblob import TextBlob, Word\n",
    "import random\n",
    "\n",
    "# From Tender Buttons by Gertrude Stein\n",
    "text = '''\n",
    "A cushion has that cover. Supposing you do not like to change, supposing it is very clean \n",
    "that there is no change in appearance, supposing that there is regularity and a costume is \n",
    "that any the worse than an oyster and an exchange. Come to season that is there any extreme \n",
    "use in feather and cotton. Is there not much more joy in a table and more chairs and very \n",
    "likely roundness and a place to put them. A circle of fine card board and a chance to see a tassel. \n",
    "'''\n",
    "\n",
    "blob = TextBlob(text)\n",
    "\n",
    "nouns = []\n",
    "for word, tag in blob.tags:\n",
    "    if tag == 'NN':\n",
    "        nouns.append(word.lemmatize())\n",
    "\n",
    "print \"This text is about:\"\n",
    "for item in random.sample(nouns, 5):\n",
    "    word = Word(item)\n",
    "    print word.pluralize()"
   ]
  }
 ],
 "metadata": {
  "kernelspec": {
   "display_name": "Python 2",
   "language": "python",
   "name": "python2"
  },
  "language_info": {
   "name": "python",
   "version": "2.7.10"
  }
 },
 "nbformat": 4,
 "nbformat_minor": 0
}
